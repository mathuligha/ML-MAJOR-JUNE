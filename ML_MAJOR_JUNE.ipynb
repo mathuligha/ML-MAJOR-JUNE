{
  "nbformat": 4,
  "nbformat_minor": 0,
  "metadata": {
    "colab": {
      "name": "ML-MAJOR-JUNE.ipynb",
      "provenance": []
    },
    "kernelspec": {
      "name": "python3",
      "display_name": "Python 3"
    },
    "language_info": {
      "name": "python"
    }
  },
  "cells": [
    {
      "cell_type": "code",
      "metadata": {
        "id": "yCQLUPrX-uZd",
        "colab": {
          "base_uri": "https://localhost:8080/",
          "height": 639
        },
        "outputId": "74da3844-e64a-4fb8-8ed9-21b7a4e0fc58"
      },
      "source": [
        "import pandas as pd\n",
        "import torch\n",
        "import matplotlib.pyplot as plt\n",
        "df = pd.read_csv(r'https://raw.githubusercontent.com/a-coders-guide-to-ai/a-coders-guide-to-neural-networks/master/data/diabetes.csv')\n",
        "df.head()\n",
        "weights_E = torch.tensor([2,3,4])\n",
        "X_E = torch.tensor([[9,8,7], [4,5,6]])\n",
        "X_E.shape\n",
        "print(weights_E*X_E)\n",
        "print(torch.sum(weights_E*X_E, axis=1))\n",
        "\n",
        "weights_E@X_E.T\n",
        "bias_E = torch.tensor([5])\n",
        "print(weights_E@X_E.T + bias_E)\n",
        "print(weights_E@X_E.T + bias_E*1)\n",
        "weights_E_new = torch.cat((weights_E, bias_E), dim=0)\n",
        "X_E_new = torch.cat((X_E, torch.ones(2, 1, dtype=int)), dim=1)\n",
        "print('weights_E_new:')\n",
        "print(weights_E_new)\n",
        "print()\n",
        "print('X_E_new:')\n",
        "print(X_E_new)\n",
        "print(weights_E@X_E.T + bias_E*1)\n",
        "print(weights_E_new@X_E_new.T)\n",
        "X = df[df.columns[:-1]]\n",
        "y = df['Outcome']\n",
        "\n",
        "X = torch.tensor(X.values)\n",
        "y = torch.tensor(y.values)\n",
        "\n",
        "X = torch.cat((X, torch.ones(X.shape[0], dtype=float).reshape(-1,1)), dim=1)\n",
        "def log_loss(y, y_pred): ##log loss error (binary cross entropy)\n",
        "  return -torch.sum((y*torch.log(y_pred) + (1-y)*torch.log(1-y_pred)))/y.shape[0]\n",
        "\n",
        "def sigmoid(linear):\n",
        "    return 1/(1+torch.exp(-linear))\n",
        "\n",
        "epoch_loss = []\n",
        "\n",
        "weights = torch.zeros(9, dtype=float, requires_grad=True)\n",
        "learning_rate = 1e-4\n",
        "n = X.shape[0]\n",
        "\n",
        "for epoch in range(8000+1): \n",
        "    linear = weights.reshape(1,-1)@X.T ##one equation for all\n",
        "    y_pred =  sigmoid(linear) ##logistic\n",
        "    loss = log_loss(y, y_pred)\n",
        "    epoch_loss.append(loss.item())\n",
        "\n",
        "    ###backpropagation###\n",
        "    loss.backward()\n",
        "\n",
        "    ###step###\n",
        "    with torch.no_grad():\n",
        "        weights -= learning_rate * weights.grad\n",
        "\n",
        "    weights.grad.zero_()\n",
        "\n",
        "    if(epoch % 1000 == 0):\n",
        "        acc = torch.sum(((y_pred>=0.5)+0 == y)+0).item()/y.shape[0]\n",
        "        print('epoch: {0} - loss: {1:.5f}; acc: {2:.3f}'.format(epoch, epoch_loss[-1], acc))\n",
        "        plt.plot(epoch_loss)\n"
      ],
      "execution_count": 6,
      "outputs": [
        {
          "output_type": "stream",
          "text": [
            "tensor([[18, 24, 28],\n",
            "        [ 8, 15, 24]])\n",
            "tensor([70, 47])\n",
            "tensor([75, 52])\n",
            "tensor([75, 52])\n",
            "weights_E_new:\n",
            "tensor([2, 3, 4, 5])\n",
            "\n",
            "X_E_new:\n",
            "tensor([[9, 8, 7, 1],\n",
            "        [4, 5, 6, 1]])\n",
            "tensor([75, 52])\n",
            "tensor([75, 52])\n",
            "epoch: 0 - loss: 0.69315; acc: 0.349\n",
            "epoch: 1000 - loss: 0.61885; acc: 0.676\n",
            "epoch: 2000 - loss: 0.61605; acc: 0.685\n",
            "epoch: 3000 - loss: 0.61403; acc: 0.686\n",
            "epoch: 4000 - loss: 0.61253; acc: 0.689\n",
            "epoch: 5000 - loss: 0.61142; acc: 0.694\n",
            "epoch: 6000 - loss: 0.61057; acc: 0.699\n",
            "epoch: 7000 - loss: 0.60992; acc: 0.702\n",
            "epoch: 8000 - loss: 0.60942; acc: 0.702\n"
          ],
          "name": "stdout"
        },
        {
          "output_type": "display_data",
          "data": {
            "image/png": "[encoded data removed]",
            "text/plain": [
              "<Figure size 432x288 with 1 Axes>"
            ]
          },
          "metadata": {
            "tags": [],
            "needs_background": "light"
          }
        }
      ]
    }
  ]
}